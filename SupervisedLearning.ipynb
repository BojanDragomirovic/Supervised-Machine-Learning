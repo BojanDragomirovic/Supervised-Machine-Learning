{
 "cells": [
  {
   "cell_type": "markdown",
   "metadata": {},
   "source": [
    "# Supervised learning"
   ]
  },
  {
   "cell_type": "markdown",
   "metadata": {},
   "source": [
    "#### Cilj projekta je isprobavanje različitih metoda mašinskog učenja nad prethodno pripremljenim podacima"
   ]
  },
  {
   "cell_type": "markdown",
   "metadata": {},
   "source": [
    "## Učitavanje i priprema podataka "
   ]
  },
  {
   "cell_type": "code",
   "execution_count": 1,
   "metadata": {},
   "outputs": [],
   "source": [
    "import pandas as pd\n",
    "import numpy as np\n",
    "import seaborn as sns\n",
    "import matplotlib.pyplot as plt\n",
    "%matplotlib inline \n",
    "import math\n",
    "\n",
    "cancer_data1= pd.read_csv(\"train1.csv\")\n",
    "cancer_data2= pd.read_csv(\"train2.csv\")"
   ]
  },
  {
   "cell_type": "markdown",
   "metadata": {},
   "source": [
    "#### Korišćeni dataset se sastoji iz dva dela koje je potrebno sastviti u jedan"
   ]
  },
  {
   "cell_type": "code",
   "execution_count": 2,
   "metadata": {},
   "outputs": [],
   "source": [
    "cancer_data = pd.concat([cancer_data1, cancer_data2])"
   ]
  },
  {
   "cell_type": "code",
   "execution_count": 3,
   "metadata": {},
   "outputs": [
    {
     "data": {
      "text/html": [
       "<div>\n",
       "<style scoped>\n",
       "    .dataframe tbody tr th:only-of-type {\n",
       "        vertical-align: middle;\n",
       "    }\n",
       "\n",
       "    .dataframe tbody tr th {\n",
       "        vertical-align: top;\n",
       "    }\n",
       "\n",
       "    .dataframe thead th {\n",
       "        text-align: right;\n",
       "    }\n",
       "</style>\n",
       "<table border=\"1\" class=\"dataframe\">\n",
       "  <thead>\n",
       "    <tr style=\"text-align: right;\">\n",
       "      <th></th>\n",
       "      <th>id</th>\n",
       "      <th>diagnosis</th>\n",
       "      <th>radius_mean</th>\n",
       "      <th>texture_mean</th>\n",
       "      <th>perimeter_mean</th>\n",
       "      <th>area_mean</th>\n",
       "      <th>smoothness_mean</th>\n",
       "      <th>compactness_mean</th>\n",
       "      <th>concavity_mean</th>\n",
       "      <th>concave points_mean</th>\n",
       "      <th>...</th>\n",
       "      <th>radius_worst</th>\n",
       "      <th>texture_worst</th>\n",
       "      <th>perimeter_worst</th>\n",
       "      <th>area_worst</th>\n",
       "      <th>smoothness_worst</th>\n",
       "      <th>compactness_worst</th>\n",
       "      <th>concavity_worst</th>\n",
       "      <th>concave points_worst</th>\n",
       "      <th>symmetry_worst</th>\n",
       "      <th>fractal_dimension_worst</th>\n",
       "    </tr>\n",
       "  </thead>\n",
       "  <tbody>\n",
       "    <tr>\n",
       "      <th>0</th>\n",
       "      <td>863270</td>\n",
       "      <td>B</td>\n",
       "      <td>12.360</td>\n",
       "      <td>18.54</td>\n",
       "      <td>79.01</td>\n",
       "      <td>466.7</td>\n",
       "      <td>0.08477</td>\n",
       "      <td>0.06815</td>\n",
       "      <td>0.02643</td>\n",
       "      <td>0.01921</td>\n",
       "      <td>...</td>\n",
       "      <td>13.290</td>\n",
       "      <td>27.49</td>\n",
       "      <td>85.56</td>\n",
       "      <td>544.1</td>\n",
       "      <td>0.1184</td>\n",
       "      <td>0.19630</td>\n",
       "      <td>0.19370</td>\n",
       "      <td>0.08442</td>\n",
       "      <td>0.2983</td>\n",
       "      <td>0.07185</td>\n",
       "    </tr>\n",
       "    <tr>\n",
       "      <th>1</th>\n",
       "      <td>87556202</td>\n",
       "      <td>M</td>\n",
       "      <td>14.860</td>\n",
       "      <td>23.21</td>\n",
       "      <td>100.40</td>\n",
       "      <td>671.4</td>\n",
       "      <td>0.10440</td>\n",
       "      <td>0.19800</td>\n",
       "      <td>0.16970</td>\n",
       "      <td>0.08878</td>\n",
       "      <td>...</td>\n",
       "      <td>16.080</td>\n",
       "      <td>27.78</td>\n",
       "      <td>118.60</td>\n",
       "      <td>784.7</td>\n",
       "      <td>0.1316</td>\n",
       "      <td>0.46480</td>\n",
       "      <td>0.45890</td>\n",
       "      <td>0.17270</td>\n",
       "      <td>0.3000</td>\n",
       "      <td>0.08701</td>\n",
       "    </tr>\n",
       "    <tr>\n",
       "      <th>2</th>\n",
       "      <td>858970</td>\n",
       "      <td>B</td>\n",
       "      <td>10.170</td>\n",
       "      <td>14.88</td>\n",
       "      <td>64.55</td>\n",
       "      <td>311.9</td>\n",
       "      <td>0.11340</td>\n",
       "      <td>0.08061</td>\n",
       "      <td>0.01084</td>\n",
       "      <td>0.01290</td>\n",
       "      <td>...</td>\n",
       "      <td>11.020</td>\n",
       "      <td>17.45</td>\n",
       "      <td>69.86</td>\n",
       "      <td>368.6</td>\n",
       "      <td>0.1275</td>\n",
       "      <td>0.09866</td>\n",
       "      <td>0.02168</td>\n",
       "      <td>0.02579</td>\n",
       "      <td>0.3557</td>\n",
       "      <td>0.08020</td>\n",
       "    </tr>\n",
       "    <tr>\n",
       "      <th>3</th>\n",
       "      <td>909220</td>\n",
       "      <td>B</td>\n",
       "      <td>14.040</td>\n",
       "      <td>15.98</td>\n",
       "      <td>89.78</td>\n",
       "      <td>611.2</td>\n",
       "      <td>0.08458</td>\n",
       "      <td>0.05895</td>\n",
       "      <td>0.03534</td>\n",
       "      <td>0.02944</td>\n",
       "      <td>...</td>\n",
       "      <td>15.660</td>\n",
       "      <td>21.58</td>\n",
       "      <td>101.20</td>\n",
       "      <td>750.0</td>\n",
       "      <td>0.1195</td>\n",
       "      <td>0.12520</td>\n",
       "      <td>0.11170</td>\n",
       "      <td>0.07453</td>\n",
       "      <td>0.2725</td>\n",
       "      <td>0.07234</td>\n",
       "    </tr>\n",
       "    <tr>\n",
       "      <th>4</th>\n",
       "      <td>9010333</td>\n",
       "      <td>B</td>\n",
       "      <td>8.878</td>\n",
       "      <td>15.49</td>\n",
       "      <td>56.74</td>\n",
       "      <td>241.0</td>\n",
       "      <td>0.08293</td>\n",
       "      <td>0.07698</td>\n",
       "      <td>0.04721</td>\n",
       "      <td>0.02381</td>\n",
       "      <td>...</td>\n",
       "      <td>9.981</td>\n",
       "      <td>17.70</td>\n",
       "      <td>65.27</td>\n",
       "      <td>302.0</td>\n",
       "      <td>0.1015</td>\n",
       "      <td>0.12480</td>\n",
       "      <td>0.09441</td>\n",
       "      <td>0.04762</td>\n",
       "      <td>0.2434</td>\n",
       "      <td>0.07431</td>\n",
       "    </tr>\n",
       "  </tbody>\n",
       "</table>\n",
       "<p>5 rows × 32 columns</p>\n",
       "</div>"
      ],
      "text/plain": [
       "         id diagnosis  radius_mean  texture_mean  perimeter_mean  area_mean  \\\n",
       "0    863270         B       12.360         18.54           79.01      466.7   \n",
       "1  87556202         M       14.860         23.21          100.40      671.4   \n",
       "2    858970         B       10.170         14.88           64.55      311.9   \n",
       "3    909220         B       14.040         15.98           89.78      611.2   \n",
       "4   9010333         B        8.878         15.49           56.74      241.0   \n",
       "\n",
       "   smoothness_mean  compactness_mean  concavity_mean  concave points_mean  \\\n",
       "0          0.08477           0.06815         0.02643              0.01921   \n",
       "1          0.10440           0.19800         0.16970              0.08878   \n",
       "2          0.11340           0.08061         0.01084              0.01290   \n",
       "3          0.08458           0.05895         0.03534              0.02944   \n",
       "4          0.08293           0.07698         0.04721              0.02381   \n",
       "\n",
       "   ...  radius_worst  texture_worst  perimeter_worst  area_worst  \\\n",
       "0  ...        13.290          27.49            85.56       544.1   \n",
       "1  ...        16.080          27.78           118.60       784.7   \n",
       "2  ...        11.020          17.45            69.86       368.6   \n",
       "3  ...        15.660          21.58           101.20       750.0   \n",
       "4  ...         9.981          17.70            65.27       302.0   \n",
       "\n",
       "   smoothness_worst  compactness_worst  concavity_worst  concave points_worst  \\\n",
       "0            0.1184            0.19630          0.19370               0.08442   \n",
       "1            0.1316            0.46480          0.45890               0.17270   \n",
       "2            0.1275            0.09866          0.02168               0.02579   \n",
       "3            0.1195            0.12520          0.11170               0.07453   \n",
       "4            0.1015            0.12480          0.09441               0.04762   \n",
       "\n",
       "   symmetry_worst  fractal_dimension_worst  \n",
       "0          0.2983                  0.07185  \n",
       "1          0.3000                  0.08701  \n",
       "2          0.3557                  0.08020  \n",
       "3          0.2725                  0.07234  \n",
       "4          0.2434                  0.07431  \n",
       "\n",
       "[5 rows x 32 columns]"
      ]
     },
     "execution_count": 3,
     "metadata": {},
     "output_type": "execute_result"
    }
   ],
   "source": [
    "cancer_data.head()"
   ]
  },
  {
   "cell_type": "markdown",
   "metadata": {},
   "source": [
    "#### Kolona ID ne nosi bitne informacije, pa ju je potrebno izbrisati\n"
   ]
  },
  {
   "cell_type": "code",
   "execution_count": 4,
   "metadata": {},
   "outputs": [],
   "source": [
    "cancer_data.drop(['id'], axis=1, inplace=True)"
   ]
  },
  {
   "cell_type": "markdown",
   "metadata": {},
   "source": [
    "#### Pored brisanja kolona koje nisu bitne, potrebno je sve kategoričke atribite, pretvoriti u numeričke. U konkretnom slučaju postoji samo jedan takav atribut"
   ]
  },
  {
   "cell_type": "code",
   "execution_count": 5,
   "metadata": {},
   "outputs": [],
   "source": [
    "cancer_data['diagnosis'] = [1 if b=='M' else 0 for b in cancer_data.diagnosis]"
   ]
  },
  {
   "cell_type": "markdown",
   "metadata": {},
   "source": []
  },
  {
   "cell_type": "code",
   "execution_count": 8,
   "metadata": {},
   "outputs": [
    {
     "data": {
      "text/html": [
       "<div>\n",
       "<style scoped>\n",
       "    .dataframe tbody tr th:only-of-type {\n",
       "        vertical-align: middle;\n",
       "    }\n",
       "\n",
       "    .dataframe tbody tr th {\n",
       "        vertical-align: top;\n",
       "    }\n",
       "\n",
       "    .dataframe thead th {\n",
       "        text-align: right;\n",
       "    }\n",
       "</style>\n",
       "<table border=\"1\" class=\"dataframe\">\n",
       "  <thead>\n",
       "    <tr style=\"text-align: right;\">\n",
       "      <th></th>\n",
       "      <th>diagnosis</th>\n",
       "      <th>radius_mean</th>\n",
       "      <th>texture_mean</th>\n",
       "      <th>perimeter_mean</th>\n",
       "      <th>area_mean</th>\n",
       "      <th>smoothness_mean</th>\n",
       "      <th>compactness_mean</th>\n",
       "      <th>concavity_mean</th>\n",
       "      <th>concave points_mean</th>\n",
       "      <th>symmetry_mean</th>\n",
       "      <th>...</th>\n",
       "      <th>radius_worst</th>\n",
       "      <th>texture_worst</th>\n",
       "      <th>perimeter_worst</th>\n",
       "      <th>area_worst</th>\n",
       "      <th>smoothness_worst</th>\n",
       "      <th>compactness_worst</th>\n",
       "      <th>concavity_worst</th>\n",
       "      <th>concave points_worst</th>\n",
       "      <th>symmetry_worst</th>\n",
       "      <th>fractal_dimension_worst</th>\n",
       "    </tr>\n",
       "  </thead>\n",
       "  <tbody>\n",
       "    <tr>\n",
       "      <th>0</th>\n",
       "      <td>0</td>\n",
       "      <td>12.360</td>\n",
       "      <td>18.54</td>\n",
       "      <td>79.01</td>\n",
       "      <td>466.7</td>\n",
       "      <td>0.08477</td>\n",
       "      <td>0.06815</td>\n",
       "      <td>0.02643</td>\n",
       "      <td>0.01921</td>\n",
       "      <td>0.1602</td>\n",
       "      <td>...</td>\n",
       "      <td>13.290</td>\n",
       "      <td>27.49</td>\n",
       "      <td>85.56</td>\n",
       "      <td>544.1</td>\n",
       "      <td>0.1184</td>\n",
       "      <td>0.19630</td>\n",
       "      <td>0.19370</td>\n",
       "      <td>0.08442</td>\n",
       "      <td>0.2983</td>\n",
       "      <td>0.07185</td>\n",
       "    </tr>\n",
       "    <tr>\n",
       "      <th>1</th>\n",
       "      <td>1</td>\n",
       "      <td>14.860</td>\n",
       "      <td>23.21</td>\n",
       "      <td>100.40</td>\n",
       "      <td>671.4</td>\n",
       "      <td>0.10440</td>\n",
       "      <td>0.19800</td>\n",
       "      <td>0.16970</td>\n",
       "      <td>0.08878</td>\n",
       "      <td>0.1737</td>\n",
       "      <td>...</td>\n",
       "      <td>16.080</td>\n",
       "      <td>27.78</td>\n",
       "      <td>118.60</td>\n",
       "      <td>784.7</td>\n",
       "      <td>0.1316</td>\n",
       "      <td>0.46480</td>\n",
       "      <td>0.45890</td>\n",
       "      <td>0.17270</td>\n",
       "      <td>0.3000</td>\n",
       "      <td>0.08701</td>\n",
       "    </tr>\n",
       "    <tr>\n",
       "      <th>2</th>\n",
       "      <td>0</td>\n",
       "      <td>10.170</td>\n",
       "      <td>14.88</td>\n",
       "      <td>64.55</td>\n",
       "      <td>311.9</td>\n",
       "      <td>0.11340</td>\n",
       "      <td>0.08061</td>\n",
       "      <td>0.01084</td>\n",
       "      <td>0.01290</td>\n",
       "      <td>0.2743</td>\n",
       "      <td>...</td>\n",
       "      <td>11.020</td>\n",
       "      <td>17.45</td>\n",
       "      <td>69.86</td>\n",
       "      <td>368.6</td>\n",
       "      <td>0.1275</td>\n",
       "      <td>0.09866</td>\n",
       "      <td>0.02168</td>\n",
       "      <td>0.02579</td>\n",
       "      <td>0.3557</td>\n",
       "      <td>0.08020</td>\n",
       "    </tr>\n",
       "    <tr>\n",
       "      <th>3</th>\n",
       "      <td>0</td>\n",
       "      <td>14.040</td>\n",
       "      <td>15.98</td>\n",
       "      <td>89.78</td>\n",
       "      <td>611.2</td>\n",
       "      <td>0.08458</td>\n",
       "      <td>0.05895</td>\n",
       "      <td>0.03534</td>\n",
       "      <td>0.02944</td>\n",
       "      <td>0.1714</td>\n",
       "      <td>...</td>\n",
       "      <td>15.660</td>\n",
       "      <td>21.58</td>\n",
       "      <td>101.20</td>\n",
       "      <td>750.0</td>\n",
       "      <td>0.1195</td>\n",
       "      <td>0.12520</td>\n",
       "      <td>0.11170</td>\n",
       "      <td>0.07453</td>\n",
       "      <td>0.2725</td>\n",
       "      <td>0.07234</td>\n",
       "    </tr>\n",
       "    <tr>\n",
       "      <th>4</th>\n",
       "      <td>0</td>\n",
       "      <td>8.878</td>\n",
       "      <td>15.49</td>\n",
       "      <td>56.74</td>\n",
       "      <td>241.0</td>\n",
       "      <td>0.08293</td>\n",
       "      <td>0.07698</td>\n",
       "      <td>0.04721</td>\n",
       "      <td>0.02381</td>\n",
       "      <td>0.1930</td>\n",
       "      <td>...</td>\n",
       "      <td>9.981</td>\n",
       "      <td>17.70</td>\n",
       "      <td>65.27</td>\n",
       "      <td>302.0</td>\n",
       "      <td>0.1015</td>\n",
       "      <td>0.12480</td>\n",
       "      <td>0.09441</td>\n",
       "      <td>0.04762</td>\n",
       "      <td>0.2434</td>\n",
       "      <td>0.07431</td>\n",
       "    </tr>\n",
       "  </tbody>\n",
       "</table>\n",
       "<p>5 rows × 31 columns</p>\n",
       "</div>"
      ],
      "text/plain": [
       "   diagnosis  radius_mean  texture_mean  perimeter_mean  area_mean  \\\n",
       "0          0       12.360         18.54           79.01      466.7   \n",
       "1          1       14.860         23.21          100.40      671.4   \n",
       "2          0       10.170         14.88           64.55      311.9   \n",
       "3          0       14.040         15.98           89.78      611.2   \n",
       "4          0        8.878         15.49           56.74      241.0   \n",
       "\n",
       "   smoothness_mean  compactness_mean  concavity_mean  concave points_mean  \\\n",
       "0          0.08477           0.06815         0.02643              0.01921   \n",
       "1          0.10440           0.19800         0.16970              0.08878   \n",
       "2          0.11340           0.08061         0.01084              0.01290   \n",
       "3          0.08458           0.05895         0.03534              0.02944   \n",
       "4          0.08293           0.07698         0.04721              0.02381   \n",
       "\n",
       "   symmetry_mean  ...  radius_worst  texture_worst  perimeter_worst  \\\n",
       "0         0.1602  ...        13.290          27.49            85.56   \n",
       "1         0.1737  ...        16.080          27.78           118.60   \n",
       "2         0.2743  ...        11.020          17.45            69.86   \n",
       "3         0.1714  ...        15.660          21.58           101.20   \n",
       "4         0.1930  ...         9.981          17.70            65.27   \n",
       "\n",
       "   area_worst  smoothness_worst  compactness_worst  concavity_worst  \\\n",
       "0       544.1            0.1184            0.19630          0.19370   \n",
       "1       784.7            0.1316            0.46480          0.45890   \n",
       "2       368.6            0.1275            0.09866          0.02168   \n",
       "3       750.0            0.1195            0.12520          0.11170   \n",
       "4       302.0            0.1015            0.12480          0.09441   \n",
       "\n",
       "   concave points_worst  symmetry_worst  fractal_dimension_worst  \n",
       "0               0.08442          0.2983                  0.07185  \n",
       "1               0.17270          0.3000                  0.08701  \n",
       "2               0.02579          0.3557                  0.08020  \n",
       "3               0.07453          0.2725                  0.07234  \n",
       "4               0.04762          0.2434                  0.07431  \n",
       "\n",
       "[5 rows x 31 columns]"
      ]
     },
     "execution_count": 8,
     "metadata": {},
     "output_type": "execute_result"
    }
   ],
   "source": [
    "cancer_data.head()"
   ]
  },
  {
   "cell_type": "markdown",
   "metadata": {},
   "source": [
    "## Balansiranje stabla"
   ]
  },
  {
   "cell_type": "code",
   "execution_count": 9,
   "metadata": {},
   "outputs": [
    {
     "data": {
      "text/plain": [
       "0    356\n",
       "1    212\n",
       "Name: diagnosis, dtype: int64"
      ]
     },
     "execution_count": 9,
     "metadata": {},
     "output_type": "execute_result"
    }
   ],
   "source": [
    "cancer_data['diagnosis'].value_counts()"
   ]
  },
  {
   "cell_type": "markdown",
   "metadata": {},
   "source": [
    "#### Pošto se broj entiteta koji prpadaju jednoj klasi, razlikuje od broja entiteta koji pripadaju drugoj, potrebno je svesti ih na isti broj (balansirati dataset).\n",
    "#### Postoji više načina:\n",
    "   #### 1. Dodavanje entiteta klase koja ima manje\n",
    "   #### 2. Brisanje entiteta klase koja ima više\n",
    "   #### 3. Postaviti parametar algoritmu, tako da on programski balansira dataset"
   ]
  },
  {
   "cell_type": "code",
   "execution_count": 17,
   "metadata": {},
   "outputs": [
    {
     "data": {
      "text/plain": [
       "1    212\n",
       "0    212\n",
       "Name: diagnosis, dtype: int64"
      ]
     },
     "execution_count": 17,
     "metadata": {},
     "output_type": "execute_result"
    }
   ],
   "source": [
    "from sklearn.utils import resample\n",
    "\n",
    "majority_data = cancer_data[cancer_data.diagnosis==0]\n",
    "minority_data = cancer_data[cancer_data.diagnosis==1]\n",
    "\n",
    "majority_data_downsampled = resample(majority_data, replace=False, n_samples=212, random_state=123)\n",
    "\n",
    "cancer_data_downsampled = pd.concat([majority_data_downsampled, minority_data])\n",
    "cancer_data_downsampled.diagnosis.value_counts()"
   ]
  },
  {
   "cell_type": "markdown",
   "metadata": {},
   "source": [
    "## Podela podataka na train i test"
   ]
  },
  {
   "cell_type": "code",
   "execution_count": 22,
   "metadata": {},
   "outputs": [],
   "source": [
    "X= cancer_data_downsampled.drop(\"diagnosis\", axis=1)\n",
    "y= cancer_data_downsampled[\"diagnosis\"]"
   ]
  },
  {
   "cell_type": "markdown",
   "metadata": {},
   "source": [
    "## Logistička regresija nad dataset-om sa svim atributima i \"ručno\" balansiranim dataset-om"
   ]
  },
  {
   "cell_type": "code",
   "execution_count": 25,
   "metadata": {},
   "outputs": [],
   "source": [
    "from sklearn.model_selection import train_test_split\n",
    "from sklearn.linear_model import LogisticRegression\n",
    "\n",
    "X_train, X_test, y_train, y_test = train_test_split(X, y, test_size=0.3, random_state=1)\n"
   ]
  },
  {
   "cell_type": "code",
   "execution_count": 27,
   "metadata": {},
   "outputs": [
    {
     "name": "stderr",
     "output_type": "stream",
     "text": [
      "/srv/conda/envs/notebook/lib/python3.7/site-packages/sklearn/linear_model/logistic.py:432: FutureWarning: Default solver will be changed to 'lbfgs' in 0.22. Specify a solver to silence this warning.\n",
      "  FutureWarning)\n"
     ]
    }
   ],
   "source": [
    "logmodel=LogisticRegression()\n",
    "logmodel.fit(X_train, y_train)\n",
    "predictions = logmodel.predict(X_test)"
   ]
  },
  {
   "cell_type": "markdown",
   "metadata": {},
   "source": [
    "#### Matrica konfuzije"
   ]
  },
  {
   "cell_type": "code",
   "execution_count": 28,
   "metadata": {},
   "outputs": [
    {
     "data": {
      "text/plain": [
       "array([[59,  2],\n",
       "       [ 6, 61]])"
      ]
     },
     "execution_count": 28,
     "metadata": {},
     "output_type": "execute_result"
    }
   ],
   "source": [
    "from sklearn.metrics import confusion_matrix\n",
    "confusion_matrix(y_test,predictions)"
   ]
  },
  {
   "cell_type": "markdown",
   "metadata": {},
   "source": [
    "#### Tačnost"
   ]
  },
  {
   "cell_type": "code",
   "execution_count": 29,
   "metadata": {},
   "outputs": [
    {
     "data": {
      "text/plain": [
       "93.75"
      ]
     },
     "execution_count": 29,
     "metadata": {},
     "output_type": "execute_result"
    }
   ],
   "source": [
    "from sklearn.metrics import accuracy_score\n",
    "accuracy_score(y_test,predictions)*100"
   ]
  },
  {
   "cell_type": "markdown",
   "metadata": {},
   "source": [
    "## Logistička regresija sa skaliranim dataset-om"
   ]
  },
  {
   "cell_type": "code",
   "execution_count": 30,
   "metadata": {},
   "outputs": [],
   "source": [
    "from sklearn.preprocessing import StandardScaler\n",
    "sc = StandardScaler()\n",
    "X_train=sc.fit_transform(X_train)\n",
    "X_test=sc.transform(X_test)"
   ]
  },
  {
   "cell_type": "code",
   "execution_count": 31,
   "metadata": {},
   "outputs": [
    {
     "name": "stderr",
     "output_type": "stream",
     "text": [
      "/srv/conda/envs/notebook/lib/python3.7/site-packages/sklearn/linear_model/logistic.py:432: FutureWarning: Default solver will be changed to 'lbfgs' in 0.22. Specify a solver to silence this warning.\n",
      "  FutureWarning)\n"
     ]
    }
   ],
   "source": [
    "logmodel2=LogisticRegression()\n",
    "logmodel2.fit(X_train, y_train)\n",
    "predictions = logmodel2.predict(X_test)"
   ]
  },
  {
   "cell_type": "markdown",
   "metadata": {},
   "source": [
    "#### Matrica konfuzije"
   ]
  },
  {
   "cell_type": "code",
   "execution_count": 32,
   "metadata": {},
   "outputs": [
    {
     "data": {
      "text/plain": [
       "array([[60,  1],\n",
       "       [ 2, 65]])"
      ]
     },
     "execution_count": 32,
     "metadata": {},
     "output_type": "execute_result"
    }
   ],
   "source": [
    "from sklearn.metrics import confusion_matrix\n",
    "confusion_matrix(y_test,predictions)"
   ]
  },
  {
   "cell_type": "markdown",
   "metadata": {},
   "source": [
    "#### Tačnost"
   ]
  },
  {
   "cell_type": "code",
   "execution_count": 33,
   "metadata": {},
   "outputs": [
    {
     "data": {
      "text/plain": [
       "97.65625"
      ]
     },
     "execution_count": 33,
     "metadata": {},
     "output_type": "execute_result"
    }
   ],
   "source": [
    "from sklearn.metrics import accuracy_score\n",
    "accuracy_score(y_test,predictions)*100"
   ]
  },
  {
   "cell_type": "markdown",
   "metadata": {},
   "source": [
    "## Logistička regresija sa programski balansiranim dataset-om"
   ]
  },
  {
   "cell_type": "code",
   "execution_count": 36,
   "metadata": {},
   "outputs": [],
   "source": [
    "X3= cancer_data.drop(\"diagnosis\", axis=1)\n",
    "y3= cancer_data[\"diagnosis\"]\n",
    "\n",
    "X_train3, X_test3, y_train3, y_test3 = train_test_split(X3, y3, test_size=0.3, random_state=1)\n"
   ]
  },
  {
   "cell_type": "code",
   "execution_count": 37,
   "metadata": {},
   "outputs": [
    {
     "name": "stderr",
     "output_type": "stream",
     "text": [
      "/srv/conda/envs/notebook/lib/python3.7/site-packages/sklearn/linear_model/logistic.py:432: FutureWarning: Default solver will be changed to 'lbfgs' in 0.22. Specify a solver to silence this warning.\n",
      "  FutureWarning)\n"
     ]
    }
   ],
   "source": [
    "logmodel3=LogisticRegression(\n",
    "    penalty='l2',\n",
    "    dual=False,\n",
    "    tol=0.0001,\n",
    "    C=1.0,\n",
    "    fit_intercept=True,\n",
    "    intercept_scaling=1,\n",
    "    class_weight='balanced',\n",
    "    random_state=None,\n",
    "    solver='warn',\n",
    "    max_iter=100,\n",
    "    multi_class='warn',\n",
    "    verbose=0,\n",
    "    warm_start=False,\n",
    "    n_jobs=None,\n",
    "    l1_ratio=None,)\n",
    "logmodel3.fit(X_train3, y_train3)\n",
    "predictions = logmodel3.predict(X_test3)"
   ]
  },
  {
   "cell_type": "markdown",
   "metadata": {},
   "source": [
    "#### Matrica konfuzije"
   ]
  },
  {
   "cell_type": "code",
   "execution_count": 39,
   "metadata": {},
   "outputs": [
    {
     "data": {
      "text/plain": [
       "array([[101,   4],\n",
       "       [  2,  64]])"
      ]
     },
     "execution_count": 39,
     "metadata": {},
     "output_type": "execute_result"
    }
   ],
   "source": [
    "from sklearn.metrics import confusion_matrix\n",
    "confusion_matrix(y_test3,predictions)"
   ]
  },
  {
   "cell_type": "markdown",
   "metadata": {},
   "source": [
    "#### Tačnost"
   ]
  },
  {
   "cell_type": "code",
   "execution_count": 42,
   "metadata": {},
   "outputs": [
    {
     "data": {
      "text/plain": [
       "96.49122807017544"
      ]
     },
     "execution_count": 42,
     "metadata": {},
     "output_type": "execute_result"
    }
   ],
   "source": [
    "from sklearn.metrics import accuracy_score\n",
    "accuracy_score(y_test3,predictions)*100"
   ]
  },
  {
   "cell_type": "markdown",
   "metadata": {},
   "source": [
    "## Promena vrednosti za threshold "
   ]
  },
  {
   "cell_type": "markdown",
   "metadata": {},
   "source": [
    "#### Provera kako će promena granice odlučivanja uticati na rezultate predikcije. Korišćen je skalirani, \"ručno\" balansirani dataset"
   ]
  },
  {
   "cell_type": "code",
   "execution_count": 67,
   "metadata": {},
   "outputs": [
    {
     "name": "stdout",
     "output_type": "stream",
     "text": [
      "Threshold = 0.1\n",
      "Accuracy:  0.890625\n",
      "F1 Score:  0.9041095890410958\n",
      "Precision:  0.8354430379746836\n",
      "Recall:  0.9850746268656716\n",
      "Sensitivity:  0.9850746268656716\n",
      "Specificity:  0.7868852459016393\n",
      "Confusion matrix: [[48 13]\n",
      " [ 1 66]]\n",
      "True positive:  66\n",
      "False positive:  13\n",
      "True negative:  48\n",
      "False negative 1\n",
      "\n",
      "\n",
      "Threshold = 0.2\n",
      "Accuracy:  0.921875\n",
      "F1 Score:  0.9295774647887323\n",
      "Precision:  0.88\n",
      "Recall:  0.9850746268656716\n",
      "Sensitivity:  0.9850746268656716\n",
      "Specificity:  0.8524590163934426\n",
      "Confusion matrix: [[52  9]\n",
      " [ 1 66]]\n",
      "True positive:  66\n",
      "False positive:  9\n",
      "True negative:  52\n",
      "False negative 1\n",
      "\n",
      "\n",
      "Threshold = 0.3\n",
      "Accuracy:  0.9609375\n",
      "F1 Score:  0.9635036496350364\n",
      "Precision:  0.9428571428571428\n",
      "Recall:  0.9850746268656716\n",
      "Sensitivity:  0.9850746268656716\n",
      "Specificity:  0.9344262295081968\n",
      "Confusion matrix: [[57  4]\n",
      " [ 1 66]]\n",
      "True positive:  66\n",
      "False positive:  4\n",
      "True negative:  57\n",
      "False negative 1\n",
      "\n",
      "\n",
      "Threshold = 0.4\n",
      "Accuracy:  0.9765625\n",
      "F1 Score:  0.9777777777777777\n",
      "Precision:  0.9705882352941176\n",
      "Recall:  0.9850746268656716\n",
      "Sensitivity:  0.9850746268656716\n",
      "Specificity:  0.9672131147540983\n",
      "Confusion matrix: [[59  2]\n",
      " [ 1 66]]\n",
      "True positive:  66\n",
      "False positive:  2\n",
      "True negative:  59\n",
      "False negative 1\n",
      "\n",
      "\n",
      "Threshold = 0.5\n",
      "Accuracy:  0.9765625\n",
      "F1 Score:  0.9774436090225564\n",
      "Precision:  0.9848484848484849\n",
      "Recall:  0.9701492537313433\n",
      "Sensitivity:  0.9701492537313433\n",
      "Specificity:  0.9836065573770492\n",
      "Confusion matrix: [[60  1]\n",
      " [ 2 65]]\n",
      "True positive:  65\n",
      "False positive:  1\n",
      "True negative:  60\n",
      "False negative 2\n",
      "\n",
      "\n",
      "Threshold = 0.6\n",
      "Accuracy:  0.96875\n",
      "F1 Score:  0.9692307692307692\n",
      "Precision:  1.0\n",
      "Recall:  0.9402985074626866\n",
      "Sensitivity:  0.9402985074626866\n",
      "Specificity:  1.0\n",
      "Confusion matrix: [[61  0]\n",
      " [ 4 63]]\n",
      "True positive:  63\n",
      "False positive:  0\n",
      "True negative:  61\n",
      "False negative 4\n",
      "\n",
      "\n",
      "Threshold = 0.7\n",
      "Accuracy:  0.9609375\n",
      "F1 Score:  0.9612403100775194\n",
      "Precision:  1.0\n",
      "Recall:  0.9253731343283582\n",
      "Sensitivity:  0.9253731343283582\n",
      "Specificity:  1.0\n",
      "Confusion matrix: [[61  0]\n",
      " [ 5 62]]\n",
      "True positive:  62\n",
      "False positive:  0\n",
      "True negative:  61\n",
      "False negative 5\n",
      "\n",
      "\n",
      "Threshold = 0.8\n",
      "Accuracy:  0.953125\n",
      "F1 Score:  0.953125\n",
      "Precision:  1.0\n",
      "Recall:  0.9104477611940298\n",
      "Sensitivity:  0.9104477611940298\n",
      "Specificity:  1.0\n",
      "Confusion matrix: [[61  0]\n",
      " [ 6 61]]\n",
      "True positive:  61\n",
      "False positive:  0\n",
      "True negative:  61\n",
      "False negative 6\n",
      "\n",
      "\n",
      "Threshold = 0.9\n",
      "Accuracy:  0.9140625\n",
      "F1 Score:  0.9105691056910569\n",
      "Precision:  1.0\n",
      "Recall:  0.835820895522388\n",
      "Sensitivity:  0.835820895522388\n",
      "Specificity:  1.0\n",
      "Confusion matrix: [[61  0]\n",
      " [11 56]]\n",
      "True positive:  56\n",
      "False positive:  0\n",
      "True negative:  61\n",
      "False negative 11\n",
      "\n",
      "\n"
     ]
    },
    {
     "name": "stderr",
     "output_type": "stream",
     "text": [
      "/srv/conda/envs/notebook/lib/python3.7/site-packages/sklearn/linear_model/logistic.py:432: FutureWarning: Default solver will be changed to 'lbfgs' in 0.22. Specify a solver to silence this warning.\n",
      "  FutureWarning)\n"
     ]
    }
   ],
   "source": [
    "from sklearn.metrics import accuracy_score, f1_score, recall_score, confusion_matrix, precision_score\n",
    "from sklearn.linear_model import LogisticRegression\n",
    "thresholds = [0.1, 0.2, 0.3, 0.4, 0.5, 0.6, 0.7, 0.8, 0.9]\n",
    "prob=LogisticRegression()\n",
    "prob.fit(X_train, y_train)\n",
    "prob = prob.predict_proba(X_test)\n",
    "\n",
    "for i in thresholds:\n",
    "    pred = prob[:,1]\n",
    "    #print(pred.shape)\n",
    "    pred = pred > i\n",
    "    pred = np.reshape(pred, -1)\n",
    "    cm = confusion_matrix(y_true=y_test, y_pred=1*pred)\n",
    "    TP = cm[1, 1]\n",
    "    TN = cm[0, 0]\n",
    "    FP = cm[0, 1]\n",
    "    FN = cm[1, 0]\n",
    "    accuracy = accuracy_score(y_true=y_test, y_pred=pred)\n",
    "    f1 = f1_score(y_true=y_test, y_pred=pred)\n",
    "    precision = precision_score(y_true=y_test, y_pred=pred)\n",
    "    recall = recall_score(y_true=y_test, y_pred=pred)\n",
    "    print(\"Threshold =\", i)\n",
    "    print(\"Accuracy: \", accuracy)\n",
    "    print(\"F1 Score: \", f1)\n",
    "    print(\"Precision: \", precision)\n",
    "    print(\"Recall: \", recall)\n",
    "    print(\"Sensitivity: \", TP / (TP + FN))\n",
    "    print(\"Specificity: \", TN / (TN + FP))\n",
    "    print(\"Confusion matrix:\", cm)\n",
    "    print(\"True positive: \", TP)\n",
    "    print(\"False positive: \", FP)\n",
    "    print(\"True negative: \", TN)\n",
    "    print(\"False negative\", FN)\n",
    "    print(\"\\n\")"
   ]
  },
  {
   "cell_type": "markdown",
   "metadata": {},
   "source": [
    "## Feature selection"
   ]
  },
  {
   "cell_type": "markdown",
   "metadata": {},
   "source": [
    "#### RFE algoritam"
   ]
  },
  {
   "cell_type": "code",
   "execution_count": 124,
   "metadata": {},
   "outputs": [],
   "source": [
    "from sklearn.feature_selection import RFE\n",
    "X= cancer_data_downsampled.drop(\"diagnosis\", axis=1)\n",
    "y= cancer_data_downsampled[\"diagnosis\"]"
   ]
  },
  {
   "cell_type": "markdown",
   "metadata": {},
   "source": [
    "#### Korišćenjem RFE algoritma izdvojeno je 5 atributa koji najviše utiču na predikciju"
   ]
  },
  {
   "cell_type": "code",
   "execution_count": 130,
   "metadata": {},
   "outputs": [
    {
     "name": "stderr",
     "output_type": "stream",
     "text": [
      "/srv/conda/envs/notebook/lib/python3.7/site-packages/sklearn/linear_model/logistic.py:432: FutureWarning: Default solver will be changed to 'lbfgs' in 0.22. Specify a solver to silence this warning.\n",
      "  FutureWarning)\n"
     ]
    }
   ],
   "source": [
    "model = LogisticRegression()\n",
    "rfe_model = RFE(model, 5)\n",
    "rfe_fit = rfe_model.fit(X, y)"
   ]
  },
  {
   "cell_type": "code",
   "execution_count": 131,
   "metadata": {},
   "outputs": [],
   "source": [
    "kolone = ['radius_mean', 'texture_mean', 'perimeter_mean',\n",
    "       'area_mean', 'smoothness_mean', 'compactness_mean', 'concavity_mean',\n",
    "       'concave points_mean', 'symmetry_mean', 'fractal_dimension_mean',\n",
    "       'radius_se', 'texture_se', 'perimeter_se', 'area_se', 'smoothness_se',\n",
    "       'compactness_se', 'concavity_se', 'concave points_se', 'symmetry_se',\n",
    "       'fractal_dimension_se', 'radius_worst', 'texture_worst',\n",
    "       'perimeter_worst', 'area_worst', 'smoothness_worst',\n",
    "       'compactness_worst', 'concavity_worst', 'concave points_worst',\n",
    "       'symmetry_worst', 'fractal_dimension_worst']"
   ]
  },
  {
   "cell_type": "code",
   "execution_count": 132,
   "metadata": {},
   "outputs": [
    {
     "name": "stdout",
     "output_type": "stream",
     "text": [
      "radius_mean\n",
      "texture_mean\n",
      "perimeter_mean\n",
      "area_mean\n",
      "smoothness_mean\n"
     ]
    }
   ],
   "source": [
    "for feature_list_index in rfe_fit.get_support(indices=True):\n",
    "    print(kolone[feature_list_index])"
   ]
  },
  {
   "cell_type": "markdown",
   "metadata": {},
   "source": [
    "#### Testiranje nad redukovanim brojem atributa"
   ]
  },
  {
   "cell_type": "code",
   "execution_count": 136,
   "metadata": {},
   "outputs": [
    {
     "name": "stderr",
     "output_type": "stream",
     "text": [
      "/srv/conda/envs/notebook/lib/python3.7/site-packages/sklearn/linear_model/logistic.py:432: FutureWarning: Default solver will be changed to 'lbfgs' in 0.22. Specify a solver to silence this warning.\n",
      "  FutureWarning)\n"
     ]
    }
   ],
   "source": [
    "X_train, X_test, y_train, y_test = train_test_split(X, y, test_size=0.3, random_state=1)\n",
    "\n",
    "logmodel=LogisticRegression()\n",
    "logmodel.fit(X_train, y_train)\n",
    "predictions = logmodel.predict(X_test)"
   ]
  },
  {
   "cell_type": "code",
   "execution_count": 137,
   "metadata": {},
   "outputs": [
    {
     "data": {
      "text/plain": [
       "array([[57,  4],\n",
       "       [ 9, 58]])"
      ]
     },
     "execution_count": 137,
     "metadata": {},
     "output_type": "execute_result"
    }
   ],
   "source": [
    "from sklearn.metrics import confusion_matrix\n",
    "confusion_matrix(y_test,predictions)"
   ]
  },
  {
   "cell_type": "code",
   "execution_count": 138,
   "metadata": {},
   "outputs": [
    {
     "data": {
      "text/plain": [
       "89.84375"
      ]
     },
     "execution_count": 138,
     "metadata": {},
     "output_type": "execute_result"
    }
   ],
   "source": [
    "from sklearn.metrics import accuracy_score\n",
    "accuracy_score(y_test,predictions)*100"
   ]
  },
  {
   "cell_type": "code",
   "execution_count": 139,
   "metadata": {},
   "outputs": [
    {
     "name": "stdout",
     "output_type": "stream",
     "text": [
      "Threshold = 0.1\n",
      "Accuracy:  0.6640625\n",
      "F1 Score:  0.7542857142857143\n",
      "Precision:  0.6111111111111112\n",
      "Recall:  0.9850746268656716\n",
      "Sensitivity:  0.9850746268656716\n",
      "Specificity:  0.3114754098360656\n",
      "Confusion matrix: [[19 42]\n",
      " [ 1 66]]\n",
      "True positive:  66\n",
      "False positive:  42\n",
      "True negative:  19\n",
      "False negative 1\n",
      "\n",
      "\n",
      "Threshold = 0.2\n",
      "Accuracy:  0.828125\n",
      "F1 Score:  0.8552631578947368\n",
      "Precision:  0.7647058823529411\n",
      "Recall:  0.9701492537313433\n",
      "Sensitivity:  0.9701492537313433\n",
      "Specificity:  0.6721311475409836\n",
      "Confusion matrix: [[41 20]\n",
      " [ 2 65]]\n",
      "True positive:  65\n",
      "False positive:  20\n",
      "True negative:  41\n",
      "False negative 2\n",
      "\n",
      "\n",
      "Threshold = 0.3\n",
      "Accuracy:  0.8671875\n",
      "F1 Score:  0.8794326241134752\n",
      "Precision:  0.8378378378378378\n",
      "Recall:  0.9253731343283582\n",
      "Sensitivity:  0.9253731343283582\n",
      "Specificity:  0.8032786885245902\n",
      "Confusion matrix: [[49 12]\n",
      " [ 5 62]]\n",
      "True positive:  62\n",
      "False positive:  12\n",
      "True negative:  49\n",
      "False negative 5\n",
      "\n",
      "\n",
      "Threshold = 0.4\n",
      "Accuracy:  0.9296875\n",
      "F1 Score:  0.9323308270676692\n",
      "Precision:  0.9393939393939394\n",
      "Recall:  0.9253731343283582\n",
      "Sensitivity:  0.9253731343283582\n",
      "Specificity:  0.9344262295081968\n",
      "Confusion matrix: [[57  4]\n",
      " [ 5 62]]\n",
      "True positive:  62\n",
      "False positive:  4\n",
      "True negative:  57\n",
      "False negative 5\n",
      "\n",
      "\n",
      "Threshold = 0.5\n",
      "Accuracy:  0.8984375\n",
      "F1 Score:  0.8992248062015503\n",
      "Precision:  0.9354838709677419\n",
      "Recall:  0.8656716417910447\n",
      "Sensitivity:  0.8656716417910447\n",
      "Specificity:  0.9344262295081968\n",
      "Confusion matrix: [[57  4]\n",
      " [ 9 58]]\n",
      "True positive:  58\n",
      "False positive:  4\n",
      "True negative:  57\n",
      "False negative 9\n",
      "\n",
      "\n",
      "Threshold = 0.6\n",
      "Accuracy:  0.890625\n",
      "F1 Score:  0.8870967741935484\n",
      "Precision:  0.9649122807017544\n",
      "Recall:  0.8208955223880597\n",
      "Sensitivity:  0.8208955223880597\n",
      "Specificity:  0.9672131147540983\n",
      "Confusion matrix: [[59  2]\n",
      " [12 55]]\n",
      "True positive:  55\n",
      "False positive:  2\n",
      "True negative:  59\n",
      "False negative 12\n",
      "\n",
      "\n",
      "Threshold = 0.7\n",
      "Accuracy:  0.8828125\n",
      "F1 Score:  0.8739495798319328\n",
      "Precision:  1.0\n",
      "Recall:  0.7761194029850746\n",
      "Sensitivity:  0.7761194029850746\n",
      "Specificity:  1.0\n",
      "Confusion matrix: [[61  0]\n",
      " [15 52]]\n",
      "True positive:  52\n",
      "False positive:  0\n",
      "True negative:  61\n",
      "False negative 15\n",
      "\n",
      "\n",
      "Threshold = 0.8\n",
      "Accuracy:  0.8359375\n",
      "F1 Score:  0.8141592920353982\n",
      "Precision:  1.0\n",
      "Recall:  0.6865671641791045\n",
      "Sensitivity:  0.6865671641791045\n",
      "Specificity:  1.0\n",
      "Confusion matrix: [[61  0]\n",
      " [21 46]]\n",
      "True positive:  46\n",
      "False positive:  0\n",
      "True negative:  61\n",
      "False negative 21\n",
      "\n",
      "\n",
      "Threshold = 0.9\n",
      "Accuracy:  0.7734375\n",
      "F1 Score:  0.7238095238095238\n",
      "Precision:  1.0\n",
      "Recall:  0.5671641791044776\n",
      "Sensitivity:  0.5671641791044776\n",
      "Specificity:  1.0\n",
      "Confusion matrix: [[61  0]\n",
      " [29 38]]\n",
      "True positive:  38\n",
      "False positive:  0\n",
      "True negative:  61\n",
      "False negative 29\n",
      "\n",
      "\n"
     ]
    },
    {
     "name": "stderr",
     "output_type": "stream",
     "text": [
      "/srv/conda/envs/notebook/lib/python3.7/site-packages/sklearn/linear_model/logistic.py:432: FutureWarning: Default solver will be changed to 'lbfgs' in 0.22. Specify a solver to silence this warning.\n",
      "  FutureWarning)\n"
     ]
    }
   ],
   "source": [
    "from sklearn.metrics import accuracy_score, f1_score, recall_score, confusion_matrix, precision_score\n",
    "from sklearn.linear_model import LogisticRegression\n",
    "thresholds = [0.1, 0.2, 0.3, 0.4, 0.5, 0.6, 0.7, 0.8, 0.9]\n",
    "prob=LogisticRegression()\n",
    "prob.fit(X_train, y_train)\n",
    "prob = prob.predict_proba(X_test)\n",
    "\n",
    "for i in thresholds:\n",
    "    pred = prob[:,1]\n",
    "    #print(pred.shape)\n",
    "    pred = pred > i\n",
    "    pred = np.reshape(pred, -1)\n",
    "    cm = confusion_matrix(y_true=y_test, y_pred=1*pred)\n",
    "    TP = cm[1, 1]\n",
    "    TN = cm[0, 0]\n",
    "    FP = cm[0, 1]\n",
    "    FN = cm[1, 0]\n",
    "    accuracy = accuracy_score(y_true=y_test, y_pred=pred)\n",
    "    f1 = f1_score(y_true=y_test, y_pred=pred)\n",
    "    precision = precision_score(y_true=y_test, y_pred=pred)\n",
    "    recall = recall_score(y_true=y_test, y_pred=pred)\n",
    "    print(\"Threshold =\", i)\n",
    "    print(\"Accuracy: \", accuracy)\n",
    "    print(\"F1 Score: \", f1)\n",
    "    print(\"Precision: \", precision)\n",
    "    print(\"Recall: \", recall)\n",
    "    print(\"Sensitivity: \", TP / (TP + FN))\n",
    "    print(\"Specificity: \", TN / (TN + FP))\n",
    "    print(\"Confusion matrix:\", cm)\n",
    "    print(\"True positive: \", TP)\n",
    "    print(\"False positive: \", FP)\n",
    "    print(\"True negative: \", TN)\n",
    "    print(\"False negative\", FN)\n",
    "    print(\"\\n\")"
   ]
  },
  {
   "cell_type": "markdown",
   "metadata": {},
   "source": [
    "#### Lasso algoritam"
   ]
  },
  {
   "cell_type": "markdown",
   "metadata": {},
   "source": [
    "#### Pošto je u prošlom delu (primer za RFE) izmenjen originalno učitani dataset, potrebno ga je ponovo učitati"
   ]
  },
  {
   "cell_type": "code",
   "execution_count": 219,
   "metadata": {},
   "outputs": [],
   "source": [
    "import pandas as pd\n",
    "import numpy as np\n",
    "import seaborn as sns\n",
    "import matplotlib.pyplot as plt\n",
    "%matplotlib inline \n",
    "import math\n",
    "\n",
    "cancer_data1= pd.read_csv(\"train1.csv\")\n",
    "cancer_data2= pd.read_csv(\"train2.csv\")\n",
    "cancer_data = pd.concat([cancer_data1, cancer_data2])\n",
    "cancer_data.drop(['id'], axis=1, inplace=True)\n",
    "cancer_data['diagnosis'] = [1 if b=='M' else 0 for b in cancer_data.diagnosis]\n",
    "\n",
    "from sklearn.utils import resample\n",
    "\n",
    "majority_data = cancer_data[cancer_data.diagnosis==0]\n",
    "minority_data = cancer_data[cancer_data.diagnosis==1]\n",
    "\n",
    "majority_data_downsampled = resample(majority_data, replace=False, n_samples=212, random_state=123)\n",
    "\n",
    "cancer_data_downsampled = pd.concat([majority_data_downsampled, minority_data])\n",
    "cancer_data_downsampled.diagnosis.value_counts()\n",
    "\n",
    "X= cancer_data_downsampled.drop(\"diagnosis\", axis=1)\n",
    "y= cancer_data_downsampled[\"diagnosis\"]\n",
    "kolone = ['diagnosis', 'radius_mean', 'texture_mean', 'perimeter_mean',\n",
    "       'area_mean', 'smoothness_mean', 'compactness_mean', 'concavity_mean',\n",
    "       'concave points_mean', 'symmetry_mean', 'fractal_dimension_mean',\n",
    "       'radius_se', 'texture_se', 'perimeter_se', 'area_se', 'smoothness_se',\n",
    "       'compactness_se', 'concavity_se', 'concave points_se', 'symmetry_se',\n",
    "       'fractal_dimension_se', 'radius_worst', 'texture_worst',\n",
    "       'perimeter_worst', 'area_worst', 'smoothness_worst',\n",
    "       'compactness_worst', 'concavity_worst', 'concave points_worst',\n",
    "       'symmetry_worst', 'fractal_dimension_worst']"
   ]
  },
  {
   "cell_type": "markdown",
   "metadata": {},
   "source": [
    "#### Lasso "
   ]
  },
  {
   "cell_type": "code",
   "execution_count": 206,
   "metadata": {},
   "outputs": [
    {
     "name": "stdout",
     "output_type": "stream",
     "text": [
      "radius_worst\n",
      "texture_worst\n"
     ]
    }
   ],
   "source": [
    "from sklearn.linear_model import LassoCV\n",
    "from sklearn.feature_selection import SelectFromModel\n",
    "clf = LassoCV(cv=3)\n",
    "sfm = SelectFromModel(clf, threshold=0.01)\n",
    "sfm.fit(X,y)\n",
    "feature_idx = sfm.get_support()\n",
    "for feature_list_index in sfm.get_support(indices=True):\n",
    "    print(kolone[feature_list_index])"
   ]
  },
  {
   "cell_type": "code",
   "execution_count": 209,
   "metadata": {},
   "outputs": [],
   "source": [
    "new_data1 = cancer_data_downsampled"
   ]
  },
  {
   "cell_type": "code",
   "execution_count": 213,
   "metadata": {},
   "outputs": [],
   "source": [
    "X= new_data1.drop(\"diagnosis\", axis=1)\n",
    "y= new_data1[\"diagnosis\"]\n",
    "new_data1.drop(['radius_mean', 'texture_mean', 'perimeter_mean',\n",
    "       'area_mean', 'smoothness_mean', 'compactness_mean', 'concavity_mean',\n",
    "       'concave points_mean', 'symmetry_mean', 'fractal_dimension_mean',\n",
    "       'radius_se', 'texture_se', 'perimeter_se', 'area_se', 'smoothness_se',\n",
    "       'compactness_se', 'concavity_se', 'concave points_se', 'symmetry_se',\n",
    "       'fractal_dimension_se',\n",
    "       'perimeter_worst', 'area_worst', 'smoothness_worst',\n",
    "       'compactness_worst', 'concavity_worst', 'concave points_worst',\n",
    "       'symmetry_worst', 'fractal_dimension_worst'], axis=1, inplace=True)\n",
    "X_train, X_test, y_train, y_test = train_test_split(X, y, test_size=0.3, random_state=1)\n"
   ]
  },
  {
   "cell_type": "code",
   "execution_count": 215,
   "metadata": {},
   "outputs": [
    {
     "name": "stdout",
     "output_type": "stream",
     "text": [
      "Threshold = 0.1\n",
      "Accuracy:  0.59375\n",
      "F1 Score:  0.7204301075268817\n",
      "Precision:  0.5630252100840336\n",
      "Recall:  1.0\n",
      "Sensitivity:  1.0\n",
      "Specificity:  0.14754098360655737\n",
      "Confusion matrix: [[ 9 52]\n",
      " [ 0 67]]\n",
      "True positive:  67\n",
      "False positive:  52\n",
      "True negative:  9\n",
      "False negative 0\n",
      "\n",
      "\n",
      "Threshold = 0.2\n",
      "Accuracy:  0.7265625\n",
      "F1 Score:  0.7928994082840237\n",
      "Precision:  0.6568627450980392\n",
      "Recall:  1.0\n",
      "Sensitivity:  1.0\n",
      "Specificity:  0.4262295081967213\n",
      "Confusion matrix: [[26 35]\n",
      " [ 0 67]]\n",
      "True positive:  67\n",
      "False positive:  35\n",
      "True negative:  26\n",
      "False negative 0\n",
      "\n",
      "\n",
      "Threshold = 0.3\n",
      "Accuracy:  0.8515625\n",
      "F1 Score:  0.8724832214765101\n",
      "Precision:  0.7926829268292683\n",
      "Recall:  0.9701492537313433\n",
      "Sensitivity:  0.9701492537313433\n",
      "Specificity:  0.7213114754098361\n",
      "Confusion matrix: [[44 17]\n",
      " [ 2 65]]\n",
      "True positive:  65\n",
      "False positive:  17\n",
      "True negative:  44\n",
      "False negative 2\n",
      "\n",
      "\n",
      "Threshold = 0.4\n",
      "Accuracy:  0.890625\n",
      "F1 Score:  0.8985507246376812\n",
      "Precision:  0.8732394366197183\n",
      "Recall:  0.9253731343283582\n",
      "Sensitivity:  0.9253731343283582\n",
      "Specificity:  0.8524590163934426\n",
      "Confusion matrix: [[52  9]\n",
      " [ 5 62]]\n",
      "True positive:  62\n",
      "False positive:  9\n",
      "True negative:  52\n",
      "False negative 5\n",
      "\n",
      "\n",
      "Threshold = 0.5\n",
      "Accuracy:  0.84375\n",
      "F1 Score:  0.8360655737704917\n",
      "Precision:  0.9272727272727272\n",
      "Recall:  0.7611940298507462\n",
      "Sensitivity:  0.7611940298507462\n",
      "Specificity:  0.9344262295081968\n",
      "Confusion matrix: [[57  4]\n",
      " [16 51]]\n",
      "True positive:  51\n",
      "False positive:  4\n",
      "True negative:  57\n",
      "False negative 16\n",
      "\n",
      "\n",
      "Threshold = 0.6\n",
      "Accuracy:  0.8203125\n",
      "F1 Score:  0.8\n",
      "Precision:  0.9583333333333334\n",
      "Recall:  0.6865671641791045\n",
      "Sensitivity:  0.6865671641791045\n",
      "Specificity:  0.9672131147540983\n",
      "Confusion matrix: [[59  2]\n",
      " [21 46]]\n",
      "True positive:  46\n",
      "False positive:  2\n",
      "True negative:  59\n",
      "False negative 21\n",
      "\n",
      "\n",
      "Threshold = 0.7\n",
      "Accuracy:  0.78125\n",
      "F1 Score:  0.7358490566037735\n",
      "Precision:  1.0\n",
      "Recall:  0.582089552238806\n",
      "Sensitivity:  0.582089552238806\n",
      "Specificity:  1.0\n",
      "Confusion matrix: [[61  0]\n",
      " [28 39]]\n",
      "True positive:  39\n",
      "False positive:  0\n",
      "True negative:  61\n",
      "False negative 28\n",
      "\n",
      "\n",
      "Threshold = 0.8\n",
      "Accuracy:  0.7109375\n",
      "F1 Score:  0.6185567010309279\n",
      "Precision:  1.0\n",
      "Recall:  0.44776119402985076\n",
      "Sensitivity:  0.44776119402985076\n",
      "Specificity:  1.0\n",
      "Confusion matrix: [[61  0]\n",
      " [37 30]]\n",
      "True positive:  30\n",
      "False positive:  0\n",
      "True negative:  61\n",
      "False negative 37\n",
      "\n",
      "\n",
      "Threshold = 0.9\n",
      "Accuracy:  0.6640625\n",
      "F1 Score:  0.5274725274725275\n",
      "Precision:  1.0\n",
      "Recall:  0.3582089552238806\n",
      "Sensitivity:  0.3582089552238806\n",
      "Specificity:  1.0\n",
      "Confusion matrix: [[61  0]\n",
      " [43 24]]\n",
      "True positive:  24\n",
      "False positive:  0\n",
      "True negative:  61\n",
      "False negative 43\n",
      "\n",
      "\n"
     ]
    },
    {
     "name": "stderr",
     "output_type": "stream",
     "text": [
      "/srv/conda/envs/notebook/lib/python3.7/site-packages/sklearn/linear_model/logistic.py:432: FutureWarning: Default solver will be changed to 'lbfgs' in 0.22. Specify a solver to silence this warning.\n",
      "  FutureWarning)\n"
     ]
    }
   ],
   "source": [
    "from sklearn.metrics import accuracy_score, f1_score, recall_score, confusion_matrix, precision_score\n",
    "from sklearn.linear_model import LogisticRegression\n",
    "thresholds = [0.1, 0.2, 0.3, 0.4, 0.5, 0.6, 0.7, 0.8, 0.9]\n",
    "prob=LogisticRegression()\n",
    "prob.fit(X_train, y_train)\n",
    "prob = prob.predict_proba(X_test)\n",
    "\n",
    "for i in thresholds:\n",
    "    pred = prob[:,1]\n",
    "    #print(pred.shape)\n",
    "    pred = pred > i\n",
    "    pred = np.reshape(pred, -1)\n",
    "    cm = confusion_matrix(y_true=y_test, y_pred=1*pred)\n",
    "    TP = cm[1, 1]\n",
    "    TN = cm[0, 0]\n",
    "    FP = cm[0, 1]\n",
    "    FN = cm[1, 0]\n",
    "    accuracy = accuracy_score(y_true=y_test, y_pred=pred)\n",
    "    f1 = f1_score(y_true=y_test, y_pred=pred)\n",
    "    precision = precision_score(y_true=y_test, y_pred=pred)\n",
    "    recall = recall_score(y_true=y_test, y_pred=pred)\n",
    "    print(\"Threshold =\", i)\n",
    "    print(\"Accuracy: \", accuracy)\n",
    "    print(\"F1 Score: \", f1)\n",
    "    print(\"Precision: \", precision)\n",
    "    print(\"Recall: \", recall)\n",
    "    print(\"Sensitivity: \", TP / (TP + FN))\n",
    "    print(\"Specificity: \", TN / (TN + FP))\n",
    "    print(\"Confusion matrix:\", cm)\n",
    "    print(\"True positive: \", TP)\n",
    "    print(\"False positive: \", FP)\n",
    "    print(\"True negative: \", TN)\n",
    "    print(\"False negative\", FN)\n",
    "    print(\"\\n\")\n"
   ]
  },
  {
   "cell_type": "markdown",
   "metadata": {},
   "source": [
    "## Extra tree feature selection"
   ]
  },
  {
   "cell_type": "code",
   "execution_count": 208,
   "metadata": {},
   "outputs": [
    {
     "name": "stdout",
     "output_type": "stream",
     "text": [
      "perimeter_worst\n",
      "concavity_worst\n"
     ]
    },
    {
     "name": "stderr",
     "output_type": "stream",
     "text": [
      "/srv/conda/envs/notebook/lib/python3.7/site-packages/sklearn/ensemble/forest.py:245: FutureWarning: The default value of n_estimators will change from 10 in version 0.20 to 100 in 0.22.\n",
      "  \"10 in version 0.20 to 100 in 0.22.\", FutureWarning)\n"
     ]
    }
   ],
   "source": [
    "from sklearn.ensemble import ExtraTreesClassifier\n",
    "etc = ExtraTreesClassifier()\n",
    "etc.fit(X, y)\n",
    "sfm = SelectFromModel(etc, threshold=0.1)\n",
    "sfm.fit(X, y)\n",
    "for feature_list_index in sfm.get_support(indices=True):\n",
    "    print(kolone[feature_list_index])"
   ]
  },
  {
   "cell_type": "markdown",
   "metadata": {},
   "source": [
    "#### Algoritam nekada vrati jedan, nekada dva, a nekada tri atributa, kao atribute čija je važnost veća od 0.1"
   ]
  },
  {
   "cell_type": "code",
   "execution_count": 221,
   "metadata": {},
   "outputs": [],
   "source": [
    "new_data2 = cancer_data_downsampled"
   ]
  },
  {
   "cell_type": "code",
   "execution_count": 222,
   "metadata": {},
   "outputs": [],
   "source": [
    "X= new_data2.drop(\"diagnosis\", axis=1)\n",
    "y= new_data2[\"diagnosis\"]\n",
    "new_data2.drop(['radius_mean', 'texture_mean', 'perimeter_mean',\n",
    "       'area_mean', 'smoothness_mean', 'compactness_mean', 'concavity_mean',\n",
    "       'concave points_mean', 'symmetry_mean', 'fractal_dimension_mean',\n",
    "       'radius_se', 'texture_se', 'perimeter_se', 'area_se', 'smoothness_se',\n",
    "       'compactness_se', 'concavity_se', 'concave points_se', 'symmetry_se',\n",
    "       'fractal_dimension_se', 'radius_worst', 'texture_worst',\n",
    "       'area_worst', 'smoothness_worst',\n",
    "       'compactness_worst', 'concave points_worst',\n",
    "       'symmetry_worst', 'fractal_dimension_worst'], axis=1, inplace=True)\n",
    "X_train, X_test, y_train, y_test = train_test_split(X, y, test_size=0.3, random_state=1)"
   ]
  },
  {
   "cell_type": "code",
   "execution_count": 223,
   "metadata": {},
   "outputs": [
    {
     "name": "stdout",
     "output_type": "stream",
     "text": [
      "Threshold = 0.1\n",
      "Accuracy:  0.8984375\n",
      "F1 Score:  0.9103448275862068\n",
      "Precision:  0.8461538461538461\n",
      "Recall:  0.9850746268656716\n",
      "Sensitivity:  0.9850746268656716\n",
      "Specificity:  0.8032786885245902\n",
      "Confusion matrix: [[49 12]\n",
      " [ 1 66]]\n",
      "True positive:  66\n",
      "False positive:  12\n",
      "True negative:  49\n",
      "False negative 1\n",
      "\n",
      "\n",
      "Threshold = 0.2\n",
      "Accuracy:  0.9296875\n",
      "F1 Score:  0.9343065693430657\n",
      "Precision:  0.9142857142857143\n",
      "Recall:  0.9552238805970149\n",
      "Sensitivity:  0.9552238805970149\n",
      "Specificity:  0.9016393442622951\n",
      "Confusion matrix: [[55  6]\n",
      " [ 3 64]]\n",
      "True positive:  64\n",
      "False positive:  6\n",
      "True negative:  55\n",
      "False negative 3\n",
      "\n",
      "\n",
      "Threshold = 0.3\n",
      "Accuracy:  0.9375\n",
      "F1 Score:  0.9402985074626865\n",
      "Precision:  0.9402985074626866\n",
      "Recall:  0.9402985074626866\n",
      "Sensitivity:  0.9402985074626866\n",
      "Specificity:  0.9344262295081968\n",
      "Confusion matrix: [[57  4]\n",
      " [ 4 63]]\n",
      "True positive:  63\n",
      "False positive:  4\n",
      "True negative:  57\n",
      "False negative 4\n",
      "\n",
      "\n",
      "Threshold = 0.4\n",
      "Accuracy:  0.9453125\n",
      "F1 Score:  0.9465648854961832\n",
      "Precision:  0.96875\n",
      "Recall:  0.9253731343283582\n",
      "Sensitivity:  0.9253731343283582\n",
      "Specificity:  0.9672131147540983\n",
      "Confusion matrix: [[59  2]\n",
      " [ 5 62]]\n",
      "True positive:  62\n",
      "False positive:  2\n",
      "True negative:  59\n",
      "False negative 5\n",
      "\n",
      "\n",
      "Threshold = 0.5\n",
      "Accuracy:  0.9375\n",
      "F1 Score:  0.9384615384615386\n",
      "Precision:  0.9682539682539683\n",
      "Recall:  0.9104477611940298\n",
      "Sensitivity:  0.9104477611940298\n",
      "Specificity:  0.9672131147540983\n",
      "Confusion matrix: [[59  2]\n",
      " [ 6 61]]\n",
      "True positive:  61\n",
      "False positive:  2\n",
      "True negative:  59\n",
      "False negative 6\n",
      "\n",
      "\n",
      "Threshold = 0.6\n",
      "Accuracy:  0.9296875\n",
      "F1 Score:  0.928\n",
      "Precision:  1.0\n",
      "Recall:  0.8656716417910447\n",
      "Sensitivity:  0.8656716417910447\n",
      "Specificity:  1.0\n",
      "Confusion matrix: [[61  0]\n",
      " [ 9 58]]\n",
      "True positive:  58\n",
      "False positive:  0\n",
      "True negative:  61\n",
      "False negative 9\n",
      "\n",
      "\n",
      "Threshold = 0.7\n",
      "Accuracy:  0.8984375\n",
      "F1 Score:  0.8925619834710743\n",
      "Precision:  1.0\n",
      "Recall:  0.8059701492537313\n",
      "Sensitivity:  0.8059701492537313\n",
      "Specificity:  1.0\n",
      "Confusion matrix: [[61  0]\n",
      " [13 54]]\n",
      "True positive:  54\n",
      "False positive:  0\n",
      "True negative:  61\n",
      "False negative 13\n",
      "\n",
      "\n",
      "Threshold = 0.8\n",
      "Accuracy:  0.8828125\n",
      "F1 Score:  0.8739495798319328\n",
      "Precision:  1.0\n",
      "Recall:  0.7761194029850746\n",
      "Sensitivity:  0.7761194029850746\n",
      "Specificity:  1.0\n",
      "Confusion matrix: [[61  0]\n",
      " [15 52]]\n",
      "True positive:  52\n",
      "False positive:  0\n",
      "True negative:  61\n",
      "False negative 15\n",
      "\n",
      "\n",
      "Threshold = 0.9\n",
      "Accuracy:  0.8671875\n",
      "F1 Score:  0.8547008547008548\n",
      "Precision:  1.0\n",
      "Recall:  0.746268656716418\n",
      "Sensitivity:  0.746268656716418\n",
      "Specificity:  1.0\n",
      "Confusion matrix: [[61  0]\n",
      " [17 50]]\n",
      "True positive:  50\n",
      "False positive:  0\n",
      "True negative:  61\n",
      "False negative 17\n",
      "\n",
      "\n"
     ]
    },
    {
     "name": "stderr",
     "output_type": "stream",
     "text": [
      "/srv/conda/envs/notebook/lib/python3.7/site-packages/sklearn/linear_model/logistic.py:432: FutureWarning: Default solver will be changed to 'lbfgs' in 0.22. Specify a solver to silence this warning.\n",
      "  FutureWarning)\n"
     ]
    }
   ],
   "source": [
    "from sklearn.metrics import accuracy_score, f1_score, recall_score, confusion_matrix, precision_score\n",
    "from sklearn.linear_model import LogisticRegression\n",
    "thresholds = [0.1, 0.2, 0.3, 0.4, 0.5, 0.6, 0.7, 0.8, 0.9]\n",
    "prob=LogisticRegression()\n",
    "prob.fit(X_train, y_train)\n",
    "prob = prob.predict_proba(X_test)\n",
    "\n",
    "for i in thresholds:\n",
    "    pred = prob[:,1]\n",
    "    #print(pred.shape)\n",
    "    pred = pred > i\n",
    "    pred = np.reshape(pred, -1)\n",
    "    cm = confusion_matrix(y_true=y_test, y_pred=1*pred)\n",
    "    TP = cm[1, 1]\n",
    "    TN = cm[0, 0]\n",
    "    FP = cm[0, 1]\n",
    "    FN = cm[1, 0]\n",
    "    accuracy = accuracy_score(y_true=y_test, y_pred=pred)\n",
    "    f1 = f1_score(y_true=y_test, y_pred=pred)\n",
    "    precision = precision_score(y_true=y_test, y_pred=pred)\n",
    "    recall = recall_score(y_true=y_test, y_pred=pred)\n",
    "    print(\"Threshold =\", i)\n",
    "    print(\"Accuracy: \", accuracy)\n",
    "    print(\"F1 Score: \", f1)\n",
    "    print(\"Precision: \", precision)\n",
    "    print(\"Recall: \", recall)\n",
    "    print(\"Sensitivity: \", TP / (TP + FN))\n",
    "    print(\"Specificity: \", TN / (TN + FP))\n",
    "    print(\"Confusion matrix:\", cm)\n",
    "    print(\"True positive: \", TP)\n",
    "    print(\"False positive: \", FP)\n",
    "    print(\"True negative: \", TN)\n",
    "    print(\"False negative\", FN)\n",
    "    print(\"\\n\")\n"
   ]
  },
  {
   "cell_type": "code",
   "execution_count": null,
   "metadata": {},
   "outputs": [],
   "source": []
  },
  {
   "cell_type": "markdown",
   "metadata": {},
   "source": [
    "## Iscrtavanje ROC krive za primer sa skaliranim dataset-om"
   ]
  },
  {
   "cell_type": "markdown",
   "metadata": {},
   "source": [
    "#### Zbog izmena u dataset-u, potrebno je ponovo učitati i seriti podatke"
   ]
  },
  {
   "cell_type": "code",
   "execution_count": 3,
   "metadata": {},
   "outputs": [
    {
     "name": "stderr",
     "output_type": "stream",
     "text": [
      "/srv/conda/envs/notebook/lib/python3.7/site-packages/sklearn/linear_model/logistic.py:432: FutureWarning: Default solver will be changed to 'lbfgs' in 0.22. Specify a solver to silence this warning.\n",
      "  FutureWarning)\n"
     ]
    }
   ],
   "source": [
    "import pandas as pd\n",
    "import numpy as np\n",
    "import seaborn as sns\n",
    "import matplotlib.pyplot as plt\n",
    "%matplotlib inline \n",
    "import math\n",
    "\n",
    "cancer_data1= pd.read_csv(\"train1.csv\")\n",
    "cancer_data2= pd.read_csv(\"train2.csv\")\n",
    "cancer_data = pd.concat([cancer_data1, cancer_data2])\n",
    "cancer_data.drop(['id'], axis=1, inplace=True)\n",
    "cancer_data['diagnosis'] = [1 if b=='M' else 0 for b in cancer_data.diagnosis]\n",
    "\n",
    "from sklearn.utils import resample\n",
    "from sklearn.model_selection import train_test_split\n",
    "from sklearn.linear_model import LogisticRegression\n",
    "\n",
    "majority_data = cancer_data[cancer_data.diagnosis==0]\n",
    "minority_data = cancer_data[cancer_data.diagnosis==1]\n",
    "\n",
    "majority_data_downsampled = resample(majority_data, replace=False, n_samples=212, random_state=123)\n",
    "\n",
    "cancer_data_downsampled = pd.concat([majority_data_downsampled, minority_data])\n",
    "cancer_data_downsampled.diagnosis.value_counts()\n",
    "\n",
    "X= cancer_data_downsampled.drop(\"diagnosis\", axis=1)\n",
    "y= cancer_data_downsampled[\"diagnosis\"]\n",
    "\n",
    "X_train, X_test, y_train, y_test = train_test_split(X, y, test_size=0.3, random_state=1)\n",
    "\n",
    "from sklearn.preprocessing import StandardScaler\n",
    "sc = StandardScaler()\n",
    "X_train=sc.fit_transform(X_train)\n",
    "X_test=sc.transform(X_test)\n",
    "logmodel2=LogisticRegression()\n",
    "y_score = logmodel2.fit(X_train, y_train).decision_function(X_test)"
   ]
  },
  {
   "cell_type": "code",
   "execution_count": 4,
   "metadata": {},
   "outputs": [],
   "source": [
    "from sklearn.metrics import roc_curve, auc\n",
    "\n",
    "fpr = dict()\n",
    "tpr = dict()\n",
    "roc_auc = dict()\n",
    "    \n",
    "fpr[\"micro\"], tpr[\"micro\"], _ = roc_curve(y_test.ravel(), y_score.ravel())\n",
    "roc_auc[\"micro\"] = auc(fpr[\"micro\"], tpr[\"micro\"])"
   ]
  },
  {
   "cell_type": "code",
   "execution_count": 5,
   "metadata": {},
   "outputs": [
    {
     "data": {
      "text/plain": [
       "0.9958404697822363"
      ]
     },
     "execution_count": 5,
     "metadata": {},
     "output_type": "execute_result"
    }
   ],
   "source": [
    "roc_auc[\"micro\"]"
   ]
  },
  {
   "cell_type": "code",
   "execution_count": 6,
   "metadata": {},
   "outputs": [
    {
     "data": {
      "image/png": "[encoded data removed]",
      "text/plain": [
       "<Figure size 432x288 with 1 Axes>"
      ]
     },
     "metadata": {
      "needs_background": "light"
     },
     "output_type": "display_data"
    }
   ],
   "source": [
    "plt.figure()\n",
    "lw = 4\n",
    "plt.plot(fpr[\"micro\"], tpr[\"micro\"], color='darkorange',\n",
    "         lw=lw, label='ROC curve (area = %0.2f)' % roc_auc[\"micro\"])\n",
    "plt.plot([0, 1], [0, 1], color='navy', lw=lw, linestyle='--')\n",
    "plt.xlim([0.0, 1.0])\n",
    "plt.ylim([0.0, 1.05])\n",
    "plt.xlabel('False Positive Rate')\n",
    "plt.ylabel('True Positive Rate')\n",
    "plt.title('Receiver operating characteristic example')\n",
    "plt.legend(loc=\"lower right\")\n",
    "plt.show()"
   ]
  },
  {
   "cell_type": "code",
   "execution_count": null,
   "metadata": {},
   "outputs": [],
   "source": []
  },
  {
   "cell_type": "markdown",
   "metadata": {},
   "source": [
    "## PCA algoritam"
   ]
  },
  {
   "cell_type": "code",
   "execution_count": 32,
   "metadata": {},
   "outputs": [],
   "source": [
    "import pandas as pd\n",
    "import numpy as np\n",
    "import seaborn as sns\n",
    "import matplotlib.pyplot as plt\n",
    "%matplotlib inline \n",
    "import math\n",
    "\n",
    "cancer_data1= pd.read_csv(\"train1.csv\")\n",
    "cancer_data2= pd.read_csv(\"train2.csv\")\n",
    "cancer_data = pd.concat([cancer_data1, cancer_data2])\n",
    "cancer_data.drop(['id'], axis=1, inplace=True)\n",
    "cancer_data['diagnosis'] = [1 if b=='M' else 0 for b in cancer_data.diagnosis]\n",
    "\n",
    "from sklearn.utils import resample\n",
    "from sklearn.model_selection import train_test_split\n",
    "from sklearn.linear_model import LogisticRegression\n",
    "\n",
    "majority_data = cancer_data[cancer_data.diagnosis==0]\n",
    "minority_data = cancer_data[cancer_data.diagnosis==1]\n",
    "\n",
    "majority_data_downsampled = resample(majority_data, replace=False, n_samples=212, random_state=123)\n",
    "\n",
    "cancer_data_downsampled = pd.concat([majority_data_downsampled, minority_data])\n",
    "cancer_data_downsampled.diagnosis.value_counts()\n",
    "\n",
    "X= cancer_data_downsampled.drop(\"diagnosis\", axis=1)\n",
    "y= cancer_data_downsampled[\"diagnosis\"]\n",
    "\n",
    "X_train, X_test, y_train, y_test = train_test_split(X, y, test_size=0.3, random_state=1)\n",
    "\n",
    "from sklearn.preprocessing import StandardScaler\n",
    "sc = StandardScaler()\n",
    "X_train=sc.fit_transform(X_train)\n",
    "X_test=sc.transform(X_test)"
   ]
  },
  {
   "cell_type": "code",
   "execution_count": 3,
   "metadata": {},
   "outputs": [],
   "source": [
    "from sklearn.decomposition import PCA\n",
    "\n",
    "pca = PCA()\n",
    "X_train = pca.fit_transform(X_train)\n",
    "X_test = pca.transform(X_test)"
   ]
  },
  {
   "cell_type": "code",
   "execution_count": 4,
   "metadata": {},
   "outputs": [],
   "source": [
    "explained_variance = pca.explained_variance_ratio_\n"
   ]
  },
  {
   "cell_type": "code",
   "execution_count": 5,
   "metadata": {},
   "outputs": [
    {
     "data": {
      "text/plain": [
       "array([4.71155779e-01, 1.70935406e-01, 9.10978630e-02, 6.23542869e-02,\n",
       "       5.62453774e-02, 4.13968284e-02, 2.55951293e-02, 1.56186980e-02,\n",
       "       1.43791936e-02, 9.82219428e-03, 9.35631242e-03, 7.53668020e-03,\n",
       "       5.19307818e-03, 4.65135135e-03, 3.03836926e-03, 2.21773657e-03,\n",
       "       1.83386257e-03, 1.70073733e-03, 1.17514174e-03, 9.45503247e-04,\n",
       "       8.95107812e-04, 7.61525919e-04, 7.38927022e-04, 5.33278698e-04,\n",
       "       3.07758145e-04, 2.33965912e-04, 2.06764377e-04, 4.96552839e-05,\n",
       "       1.88600461e-05, 4.62858255e-06])"
      ]
     },
     "execution_count": 5,
     "metadata": {},
     "output_type": "execute_result"
    }
   ],
   "source": [
    "explained_variance"
   ]
  },
  {
   "cell_type": "markdown",
   "metadata": {},
   "source": [
    "#### Na osnovu dobijenog niza može se videti koliko koji atribut procentualno varijacija izaziva na izlazu.\n",
    "\n",
    "## Korišćenje PCA za predviđanje jedne principijalne komponenete, na osnovu koje se vrši treniranje"
   ]
  },
  {
   "cell_type": "code",
   "execution_count": 6,
   "metadata": {},
   "outputs": [],
   "source": [
    "from sklearn.decomposition import PCA\n",
    "\n",
    "pca = PCA(n_components=1)\n",
    "X_train = pca.fit_transform(X_train)\n",
    "X_test = pca.transform(X_test)"
   ]
  },
  {
   "cell_type": "code",
   "execution_count": 7,
   "metadata": {},
   "outputs": [
    {
     "name": "stderr",
     "output_type": "stream",
     "text": [
      "/srv/conda/envs/notebook/lib/python3.7/site-packages/sklearn/linear_model/logistic.py:432: FutureWarning: Default solver will be changed to 'lbfgs' in 0.22. Specify a solver to silence this warning.\n",
      "  FutureWarning)\n"
     ]
    }
   ],
   "source": [
    "logmodel2=LogisticRegression()\n",
    "logmodel2.fit(X_train, y_train)\n",
    "predictions = logmodel2.predict(X_test)\n"
   ]
  },
  {
   "cell_type": "code",
   "execution_count": 8,
   "metadata": {},
   "outputs": [
    {
     "data": {
      "text/plain": [
       "array([[52,  9],\n",
       "       [10, 57]])"
      ]
     },
     "execution_count": 8,
     "metadata": {},
     "output_type": "execute_result"
    }
   ],
   "source": [
    "from sklearn.metrics import confusion_matrix\n",
    "confusion_matrix(y_test,predictions)"
   ]
  },
  {
   "cell_type": "code",
   "execution_count": 9,
   "metadata": {},
   "outputs": [
    {
     "data": {
      "text/plain": [
       "85.15625"
      ]
     },
     "execution_count": 9,
     "metadata": {},
     "output_type": "execute_result"
    }
   ],
   "source": [
    "from sklearn.metrics import accuracy_score\n",
    "accuracy_score(y_test,predictions)*100"
   ]
  },
  {
   "cell_type": "markdown",
   "metadata": {},
   "source": [
    "## Korišćenje PCA za predviđanje dve principijalne komponenete, na osnovu koje se vrši treniranje"
   ]
  },
  {
   "cell_type": "code",
   "execution_count": 17,
   "metadata": {},
   "outputs": [
    {
     "name": "stderr",
     "output_type": "stream",
     "text": [
      "/srv/conda/envs/notebook/lib/python3.7/site-packages/sklearn/linear_model/logistic.py:432: FutureWarning: Default solver will be changed to 'lbfgs' in 0.22. Specify a solver to silence this warning.\n",
      "  FutureWarning)\n"
     ]
    }
   ],
   "source": [
    "from sklearn.decomposition import PCA\n",
    "\n",
    "pca = PCA(n_components=2)\n",
    "X_train = pca.fit_transform(X_train)\n",
    "X_test = pca.transform(X_test)\n",
    "\n",
    "logmodel2=LogisticRegression()\n",
    "logmodel2.fit(X_train, y_train)\n",
    "predictions = logmodel2.predict(X_test)"
   ]
  },
  {
   "cell_type": "code",
   "execution_count": 18,
   "metadata": {},
   "outputs": [
    {
     "data": {
      "text/plain": [
       "array([[57,  4],\n",
       "       [ 5, 62]])"
      ]
     },
     "execution_count": 18,
     "metadata": {},
     "output_type": "execute_result"
    }
   ],
   "source": [
    "from sklearn.metrics import confusion_matrix\n",
    "confusion_matrix(y_test,predictions)"
   ]
  },
  {
   "cell_type": "code",
   "execution_count": 19,
   "metadata": {},
   "outputs": [
    {
     "data": {
      "text/plain": [
       "92.96875"
      ]
     },
     "execution_count": 19,
     "metadata": {},
     "output_type": "execute_result"
    }
   ],
   "source": [
    "from sklearn.metrics import accuracy_score\n",
    "accuracy_score(y_test,predictions)*100"
   ]
  },
  {
   "cell_type": "markdown",
   "metadata": {},
   "source": [
    "## Korišćenje PCA za predviđanje tri principijalne komponenete, na osnovu koje se vrši treniranje"
   ]
  },
  {
   "cell_type": "code",
   "execution_count": 24,
   "metadata": {},
   "outputs": [
    {
     "name": "stderr",
     "output_type": "stream",
     "text": [
      "/srv/conda/envs/notebook/lib/python3.7/site-packages/sklearn/linear_model/logistic.py:432: FutureWarning: Default solver will be changed to 'lbfgs' in 0.22. Specify a solver to silence this warning.\n",
      "  FutureWarning)\n"
     ]
    }
   ],
   "source": [
    "from sklearn.decomposition import PCA\n",
    "\n",
    "pca = PCA(n_components=3)\n",
    "X_train = pca.fit_transform(X_train)\n",
    "X_test = pca.transform(X_test)\n",
    "\n",
    "logmodel2=LogisticRegression()\n",
    "logmodel2.fit(X_train, y_train)\n",
    "predictions = logmodel2.predict(X_test)"
   ]
  },
  {
   "cell_type": "code",
   "execution_count": 25,
   "metadata": {},
   "outputs": [
    {
     "data": {
      "text/plain": [
       "array([[57,  4],\n",
       "       [ 9, 58]])"
      ]
     },
     "execution_count": 25,
     "metadata": {},
     "output_type": "execute_result"
    }
   ],
   "source": [
    "from sklearn.metrics import confusion_matrix\n",
    "confusion_matrix(y_test,predictions)"
   ]
  },
  {
   "cell_type": "code",
   "execution_count": 26,
   "metadata": {},
   "outputs": [
    {
     "data": {
      "text/plain": [
       "89.84375"
      ]
     },
     "execution_count": 26,
     "metadata": {},
     "output_type": "execute_result"
    }
   ],
   "source": [
    "from sklearn.metrics import accuracy_score\n",
    "accuracy_score(y_test,predictions)*100"
   ]
  },
  {
   "cell_type": "markdown",
   "metadata": {},
   "source": [
    "#### Treniranje sa svim atributima"
   ]
  },
  {
   "cell_type": "code",
   "execution_count": 28,
   "metadata": {},
   "outputs": [
    {
     "name": "stderr",
     "output_type": "stream",
     "text": [
      "/srv/conda/envs/notebook/lib/python3.7/site-packages/sklearn/linear_model/logistic.py:432: FutureWarning: Default solver will be changed to 'lbfgs' in 0.22. Specify a solver to silence this warning.\n",
      "  FutureWarning)\n"
     ]
    }
   ],
   "source": [
    "logmodel2=LogisticRegression()\n",
    "logmodel2.fit(X_train, y_train)\n",
    "predictions = logmodel2.predict(X_test)"
   ]
  },
  {
   "cell_type": "code",
   "execution_count": 29,
   "metadata": {},
   "outputs": [
    {
     "data": {
      "text/plain": [
       "array([[60,  1],\n",
       "       [ 2, 65]])"
      ]
     },
     "execution_count": 29,
     "metadata": {},
     "output_type": "execute_result"
    }
   ],
   "source": [
    "from sklearn.metrics import confusion_matrix\n",
    "confusion_matrix(y_test,predictions)"
   ]
  },
  {
   "cell_type": "code",
   "execution_count": 30,
   "metadata": {},
   "outputs": [
    {
     "data": {
      "text/plain": [
       "97.65625"
      ]
     },
     "execution_count": 30,
     "metadata": {},
     "output_type": "execute_result"
    }
   ],
   "source": [
    "from sklearn.metrics import accuracy_score\n",
    "accuracy_score(y_test,predictions)*100"
   ]
  },
  {
   "cell_type": "markdown",
   "metadata": {},
   "source": [
    "## Random Forest\n"
   ]
  },
  {
   "cell_type": "markdown",
   "metadata": {},
   "source": [
    "#### Pre treniranja modela neophodno je učitati potreban dataset. Kod za ovaj deo je izostavljen jer se pojavljuje u delu iznad (prvi skup naredbi u delu za PCA)"
   ]
  },
  {
   "cell_type": "code",
   "execution_count": 33,
   "metadata": {},
   "outputs": [
    {
     "name": "stderr",
     "output_type": "stream",
     "text": [
      "/srv/conda/envs/notebook/lib/python3.7/site-packages/sklearn/ensemble/forest.py:245: FutureWarning: The default value of n_estimators will change from 10 in version 0.20 to 100 in 0.22.\n",
      "  \"10 in version 0.20 to 100 in 0.22.\", FutureWarning)\n"
     ]
    }
   ],
   "source": [
    "from sklearn.ensemble import RandomForestClassifier\n",
    "\n",
    "classifier = RandomForestClassifier(max_depth=2, random_state=0)\n",
    "classifier.fit(X_train, y_train)\n",
    "\n",
    "# Predicting the Test set results\n",
    "y_pred = classifier.predict(X_test)"
   ]
  },
  {
   "cell_type": "code",
   "execution_count": 34,
   "metadata": {},
   "outputs": [
    {
     "data": {
      "text/plain": [
       "array([[60,  1],\n",
       "       [ 2, 65]])"
      ]
     },
     "execution_count": 34,
     "metadata": {},
     "output_type": "execute_result"
    }
   ],
   "source": [
    "from sklearn.metrics import confusion_matrix\n",
    "confusion_matrix(y_test,predictions)"
   ]
  },
  {
   "cell_type": "code",
   "execution_count": 35,
   "metadata": {},
   "outputs": [
    {
     "data": {
      "text/plain": [
       "97.65625"
      ]
     },
     "execution_count": 35,
     "metadata": {},
     "output_type": "execute_result"
    }
   ],
   "source": [
    "from sklearn.metrics import accuracy_score\n",
    "accuracy_score(y_test,predictions)*100"
   ]
  },
  {
   "cell_type": "code",
   "execution_count": null,
   "metadata": {},
   "outputs": [],
   "source": []
  }
 ],
 "metadata": {
  "kernelspec": {
   "display_name": "Python 3",
   "language": "python",
   "name": "python3"
  },
  "language_info": {
   "codemirror_mode": {
    "name": "ipython",
    "version": 3
   },
   "file_extension": ".py",
   "mimetype": "text/x-python",
   "name": "python",
   "nbconvert_exporter": "python",
   "pygments_lexer": "ipython3",
   "version": "3.7.3"
  }
 },
 "nbformat": 4,
 "nbformat_minor": 4
}
